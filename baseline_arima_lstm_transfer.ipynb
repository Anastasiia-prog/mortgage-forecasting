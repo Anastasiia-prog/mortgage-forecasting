{
  "nbformat": 4,
  "nbformat_minor": 0,
  "metadata": {
    "colab": {
      "name": "baseline-arima-lstm-transfer.ipynb",
      "provenance": []
    },
    "kernelspec": {
      "name": "python3",
      "display_name": "Python 3"
    },
    "language_info": {
      "name": "python"
    },
    "accelerator": "GPU"
  },
  "cells": [
    {
      "cell_type": "code",
      "metadata": {
        "colab": {
          "base_uri": "https://localhost:8080/"
        },
        "id": "8bHZmmo-5--M",
        "outputId": "e2122164-c7d1-44db-c52a-023fbfd8c76c"
      },
      "source": [
        "import pandas as pd\n",
        "from google.colab import drive\n",
        "\n",
        "drive.mount('/content/drive')"
      ],
      "execution_count": 1,
      "outputs": [
        {
          "output_type": "stream",
          "text": [
            "Drive already mounted at /content/drive; to attempt to forcibly remount, call drive.mount(\"/content/drive\", force_remount=True).\n"
          ],
          "name": "stdout"
        }
      ]
    },
    {
      "cell_type": "code",
      "metadata": {
        "colab": {
          "base_uri": "https://localhost:8080/"
        },
        "id": "BvDI3bDu6EjM",
        "outputId": "15f48316-e8ec-4951-950d-5ae814b98cb7"
      },
      "source": [
        "%pylab inline\n",
        "import numpy as np\n",
        "import pandas as pd\n",
        "from scipy import stats\n",
        "import statsmodels.api as sm\n",
        "import warnings\n",
        "from itertools import product\n",
        "%matplotlib inline\n",
        "from numpy import array\n",
        "from keras.models import Sequential\n",
        "from keras.layers import LSTM\n",
        "from keras.layers import Dense\n",
        "import matplotlib.pyplot as plt\n",
        "import seaborn as sns\n",
        "from sklearn.preprocessing import MinMaxScaler\n",
        "from pandas import DataFrame, concat\n",
        "from sklearn.metrics import mean_squared_error\n",
        "from statsmodels.tsa.stattools import adfuller\n",
        "from tensorflow import keras\n",
        "from datetime import datetime\n",
        "\n",
        "sns.set(rc={'figure.figsize':(12,8)})\n",
        "\n",
        "def mean_absolute_percentage_error(y_true, y_pred): \n",
        "    y_true, y_pred = np.array(y_true), np.array(y_pred)\n",
        "    return np.mean(np.abs((y_true - y_pred) / y_true)) * 100"
      ],
      "execution_count": 2,
      "outputs": [
        {
          "output_type": "stream",
          "text": [
            "Populating the interactive namespace from numpy and matplotlib\n"
          ],
          "name": "stdout"
        },
        {
          "output_type": "stream",
          "text": [
            "/usr/local/lib/python3.7/dist-packages/statsmodels/tools/_testing.py:19: FutureWarning: pandas.util.testing is deprecated. Use the functions in the public API at pandas.testing instead.\n",
            "  import pandas.util.testing as tm\n"
          ],
          "name": "stderr"
        }
      ]
    },
    {
      "cell_type": "code",
      "metadata": {
        "id": "xm0u5W7U6Elp"
      },
      "source": [
        "'''BASELINE'''\n",
        "\n",
        "df = pd.read_csv('/content/drive/My Drive/data-mortgage/data_CB_jan.csv',',', index_col=['Date'], parse_dates=['Date'], dayfirst=True, encoding='cp1251')\n",
        "df = df[8:]\n",
        "values = DataFrame(df.values)\n",
        "dataframe = concat([values.shift(1), values], axis=1)\n",
        "dataframe.columns = ['t-1', 't+1']\n",
        "X = dataframe.values\n",
        "train_size = int(len(X) * 0.7)\n",
        "Train, Test = X[1:train_size], X[train_size:]\n",
        "train_X, train_y = Train[:,0], Train[:,1]\n",
        "test_X, test_y = Test[:,0], Test[:,1]\n",
        "\n",
        "def model_persistence(x):\n",
        "    return x\n",
        "\n",
        "\n",
        "predictions_base = list()\n",
        "for x in test_X:\n",
        "    yhat = model_persistence(x)\n",
        "    predictions_base.append(yhat)\n",
        "test_score = mean_squared_error(test_y, predictions_base)\n",
        "predictions_base = pd.DataFrame(data={'baseline':predictions_base})\n",
        "test = df[int(len(df)*0.7):]\n",
        "predictions_base = predictions_base.set_index(pd.DatetimeIndex(test.index))\n",
        "mape_base = round(mean_absolute_percentage_error(test, predictions_base.baseline), 2)"
      ],
      "execution_count": 3,
      "outputs": []
    },
    {
      "cell_type": "code",
      "metadata": {
        "id": "GjiICikn6EoR"
      },
      "source": [
        "'''ARIMA'''\n",
        "train = df[:int(len(df)*0.7)]\n",
        "test = df[int(len(df)*0.7):]\n",
        "X = train.Money\n",
        "result = adfuller(X)\n",
        "if  result[1] > 0.05:\n",
        "  d = 1\n",
        "else:\n",
        "  d = 0\n",
        "\n",
        "# sm.graphics.tsa.plot_acf(train)\n",
        "# sm.graphics.tsa.plot_pacf(train)\n",
        "# plt.show()"
      ],
      "execution_count": 4,
      "outputs": []
    },
    {
      "cell_type": "code",
      "metadata": {
        "colab": {
          "base_uri": "https://localhost:8080/"
        },
        "id": "WIQTV0cE6ErB",
        "outputId": "9db852be-6bc4-4ab2-c76f-9b637cef810f"
      },
      "source": [
        "ps = [0, 1, 4, 9, 12, 13]\n",
        "qs = range(0, 5)\n",
        "\n",
        "parameters = product(ps, qs)\n",
        "parameters_list = list(parameters)\n",
        "print (\"Number of analysed models:\", len(parameters_list))"
      ],
      "execution_count": 5,
      "outputs": [
        {
          "output_type": "stream",
          "text": [
            "Number of analysed models: 30\n"
          ],
          "name": "stdout"
        }
      ]
    },
    {
      "cell_type": "code",
      "metadata": {
        "id": "oVnczdSl6Etn"
      },
      "source": [
        "# for parameter in parameters_list:\n",
        "#     mod = sm.tsa.ARMA(train.Money.dropna(), order=(parameter[0], parameter[1]))\n",
        "#     res = mod.fit();\n",
        "#     print(\"Order: {}\\nBIC: {}\\nAIC: {}\\n\".format((parameter[0], parameter[1]), res.bic, res.aic))"
      ],
      "execution_count": 6,
      "outputs": []
    },
    {
      "cell_type": "code",
      "metadata": {
        "id": "t5PeAjqg6Ewf"
      },
      "source": [
        "X = df.values\n",
        "size = int(len(X) * 0.7)\n",
        "trainn, testt = X[0:size], X[size:len(X)]\n",
        "history = [x for x in trainn]\n",
        "predictions = []\n",
        "for t in range(len(testt)):\n",
        "    model = sm.tsa.ARIMA(history, order=(1,d,0))\n",
        "    model_fit = model.fit(disp=0)\n",
        "    output = model_fit.forecast()\n",
        "    yhat = output[0]\n",
        "    predictions.append(yhat)\n",
        "    obs = testt[t]\n",
        "    history.append(obs)\n",
        "    # print('predicted=%f, expected=%f' % (yhat, obs))\n",
        "pred = []\n",
        "for i in range(len(predictions)):\n",
        "    for j in range(len(predictions[i])):\n",
        "        pred.append(predictions[i][j])\n",
        "\n",
        "pred_arima = pd.DataFrame(data={'pred':pred})\n",
        "pred_arima = pred_arima.set_index(pd.DatetimeIndex(test.index))\n",
        "mape_arima = round(mean_absolute_percentage_error(test, pred_arima), 2)"
      ],
      "execution_count": 7,
      "outputs": []
    },
    {
      "cell_type": "code",
      "metadata": {
        "colab": {
          "base_uri": "https://localhost:8080/"
        },
        "id": "Lmq0jf3r6Ezc",
        "outputId": "e9fdc7f6-7d21-4b02-929a-357e1f53aa0c"
      },
      "source": [
        "'''LSTM'''\n",
        "size = int(len(df) * 0.7)\n",
        "df_val = df.values\n",
        "df_val = df_val.astype('float32')\n",
        "scaler = MinMaxScaler(feature_range=(0, 1))\n",
        "df_val = scaler.fit_transform(df_val)\n",
        "w_len = 1\n",
        "df_train, df_test = df_val[0:size, :], df_val[(size-w_len):len(df_val), :]\n",
        "np.random.seed(7)\n",
        "\n",
        "def create_dataset(dataset, look_back=1):\n",
        "    dataX, dataY = [], []\n",
        "    for i in range(len(dataset)-look_back):\n",
        "        a = dataset[i:(i+look_back), 0]\n",
        "        dataX.append(a)\n",
        "        b = dataset[i+look_back, 0]\n",
        "        dataY.append(b)\n",
        "    return np.array(dataX), np.array(dataY)\n",
        "\n",
        "trainX, trainY = create_dataset(df_train, look_back=w_len)\n",
        "testX, testY = create_dataset(df_test, look_back=w_len)\n",
        "\n",
        "trainX = np.reshape(trainX, (trainX.shape[0], 1, trainX.shape[1]))\n",
        "testX = np.reshape(testX, (testX.shape[0], 1, testX.shape[1]))\n",
        "\n",
        "BATCH_SIZE = 72\n",
        "\n",
        "model = Sequential()\n",
        "model.add(LSTM(500, input_shape=(1, w_len), return_sequences=True))\n",
        "model.add(LSTM(500))\n",
        "model.add(Dense(1))\n",
        "#adam = keras.optimizers.Adam(lr=4e-5)\n",
        "model.compile(loss='mae', optimizer='adam')\n",
        "model.fit(trainX, trainY, epochs = 50, batch_size=BATCH_SIZE, verbose=2, validation_split=0.3)\n",
        "# model.save('lstm_01_06_2021.h5')\n",
        "model = keras.models.load_model('lstm_01_06_2021.h5')"
      ],
      "execution_count": 8,
      "outputs": [
        {
          "output_type": "stream",
          "text": [
            "Epoch 1/50\n",
            "1/1 - 17s - loss: 0.1789 - val_loss: 0.1997\n",
            "Epoch 2/50\n",
            "1/1 - 0s - loss: 0.1662 - val_loss: 0.1864\n",
            "Epoch 3/50\n",
            "1/1 - 0s - loss: 0.1538 - val_loss: 0.1746\n",
            "Epoch 4/50\n",
            "1/1 - 0s - loss: 0.1422 - val_loss: 0.1655\n",
            "Epoch 5/50\n",
            "1/1 - 0s - loss: 0.1292 - val_loss: 0.1551\n",
            "Epoch 6/50\n",
            "1/1 - 0s - loss: 0.1168 - val_loss: 0.1433\n",
            "Epoch 7/50\n",
            "1/1 - 0s - loss: 0.1032 - val_loss: 0.1329\n",
            "Epoch 8/50\n",
            "1/1 - 0s - loss: 0.0892 - val_loss: 0.1249\n",
            "Epoch 9/50\n",
            "1/1 - 0s - loss: 0.0779 - val_loss: 0.1189\n",
            "Epoch 10/50\n",
            "1/1 - 0s - loss: 0.0752 - val_loss: 0.1204\n",
            "Epoch 11/50\n",
            "1/1 - 0s - loss: 0.0781 - val_loss: 0.1236\n",
            "Epoch 12/50\n",
            "1/1 - 0s - loss: 0.0850 - val_loss: 0.1263\n",
            "Epoch 13/50\n",
            "1/1 - 0s - loss: 0.0885 - val_loss: 0.1261\n",
            "Epoch 14/50\n",
            "1/1 - 0s - loss: 0.0882 - val_loss: 0.1239\n",
            "Epoch 15/50\n",
            "1/1 - 0s - loss: 0.0850 - val_loss: 0.1220\n",
            "Epoch 16/50\n",
            "1/1 - 0s - loss: 0.0807 - val_loss: 0.1198\n",
            "Epoch 17/50\n",
            "1/1 - 0s - loss: 0.0771 - val_loss: 0.1188\n",
            "Epoch 18/50\n",
            "1/1 - 0s - loss: 0.0759 - val_loss: 0.1195\n",
            "Epoch 19/50\n",
            "1/1 - 0s - loss: 0.0749 - val_loss: 0.1203\n",
            "Epoch 20/50\n",
            "1/1 - 0s - loss: 0.0750 - val_loss: 0.1228\n",
            "Epoch 21/50\n",
            "1/1 - 0s - loss: 0.0761 - val_loss: 0.1247\n",
            "Epoch 22/50\n",
            "1/1 - 0s - loss: 0.0770 - val_loss: 0.1262\n",
            "Epoch 23/50\n",
            "1/1 - 0s - loss: 0.0776 - val_loss: 0.1269\n",
            "Epoch 24/50\n",
            "1/1 - 0s - loss: 0.0781 - val_loss: 0.1270\n",
            "Epoch 25/50\n",
            "1/1 - 0s - loss: 0.0780 - val_loss: 0.1265\n",
            "Epoch 26/50\n",
            "1/1 - 0s - loss: 0.0774 - val_loss: 0.1255\n",
            "Epoch 27/50\n",
            "1/1 - 0s - loss: 0.0768 - val_loss: 0.1244\n",
            "Epoch 28/50\n",
            "1/1 - 0s - loss: 0.0761 - val_loss: 0.1230\n",
            "Epoch 29/50\n",
            "1/1 - 0s - loss: 0.0752 - val_loss: 0.1214\n",
            "Epoch 30/50\n",
            "1/1 - 0s - loss: 0.0747 - val_loss: 0.1213\n",
            "Epoch 31/50\n",
            "1/1 - 0s - loss: 0.0746 - val_loss: 0.1212\n",
            "Epoch 32/50\n",
            "1/1 - 0s - loss: 0.0745 - val_loss: 0.1211\n",
            "Epoch 33/50\n",
            "1/1 - 0s - loss: 0.0747 - val_loss: 0.1211\n",
            "Epoch 34/50\n",
            "1/1 - 0s - loss: 0.0750 - val_loss: 0.1212\n",
            "Epoch 35/50\n",
            "1/1 - 0s - loss: 0.0751 - val_loss: 0.1215\n",
            "Epoch 36/50\n",
            "1/1 - 0s - loss: 0.0751 - val_loss: 0.1218\n",
            "Epoch 37/50\n",
            "1/1 - 0s - loss: 0.0749 - val_loss: 0.1222\n",
            "Epoch 38/50\n",
            "1/1 - 0s - loss: 0.0747 - val_loss: 0.1228\n",
            "Epoch 39/50\n",
            "1/1 - 0s - loss: 0.0743 - val_loss: 0.1234\n",
            "Epoch 40/50\n",
            "1/1 - 0s - loss: 0.0740 - val_loss: 0.1240\n",
            "Epoch 41/50\n",
            "1/1 - 0s - loss: 0.0740 - val_loss: 0.1245\n",
            "Epoch 42/50\n",
            "1/1 - 0s - loss: 0.0739 - val_loss: 0.1251\n",
            "Epoch 43/50\n",
            "1/1 - 0s - loss: 0.0739 - val_loss: 0.1256\n",
            "Epoch 44/50\n",
            "1/1 - 0s - loss: 0.0738 - val_loss: 0.1261\n",
            "Epoch 45/50\n",
            "1/1 - 0s - loss: 0.0738 - val_loss: 0.1265\n",
            "Epoch 46/50\n",
            "1/1 - 0s - loss: 0.0737 - val_loss: 0.1270\n",
            "Epoch 47/50\n",
            "1/1 - 0s - loss: 0.0736 - val_loss: 0.1275\n",
            "Epoch 48/50\n",
            "1/1 - 0s - loss: 0.0736 - val_loss: 0.1279\n",
            "Epoch 49/50\n",
            "1/1 - 0s - loss: 0.0735 - val_loss: 0.1283\n",
            "Epoch 50/50\n",
            "1/1 - 0s - loss: 0.0734 - val_loss: 0.1288\n"
          ],
          "name": "stdout"
        }
      ]
    },
    {
      "cell_type": "code",
      "metadata": {
        "id": "CNBNPWEr6E2F"
      },
      "source": [
        "predictions_lstm = list()\n",
        "for t in range(len(testX)):\n",
        "    X = testX[t]\n",
        "    yhat = model.predict(np.reshape(X, (1,1,w_len)))\n",
        "    predictions_lstm.append(yhat[0])\n",
        "    expected = testX[t][0]"
      ],
      "execution_count": 9,
      "outputs": []
    },
    {
      "cell_type": "code",
      "metadata": {
        "id": "8swSFqnv6E47"
      },
      "source": [
        "testPredict = scaler.inverse_transform([np.concatenate(predictions_lstm)])\n",
        "testY = np.hstack(testY)\n",
        "testY = scaler.inverse_transform([np.concatenate([np.expand_dims(i,axis=0) for i in testY])])"
      ],
      "execution_count": 10,
      "outputs": []
    },
    {
      "cell_type": "code",
      "metadata": {
        "id": "VkSSwgsm6E7z"
      },
      "source": [
        "predicted_lstm = pd.DataFrame(testPredict[0])\n",
        "test_df = pd.DataFrame(testY[0])\n",
        "mape_lstm = round(mean_absolute_percentage_error(testY, testPredict), 2)"
      ],
      "execution_count": 11,
      "outputs": []
    },
    {
      "cell_type": "code",
      "metadata": {
        "id": "pu6qA_4a6E-p"
      },
      "source": [
        "'''Transfer Learning'''\n",
        "df_aux = pd.read_csv('/content/drive/My Drive/data-mortgage/usd.csv')\n",
        "df_aux = df_aux.fillna(df_aux.mean())\n",
        "\n",
        "df_aux['Date'] = pd.to_datetime(df_aux['Date'])\n",
        "df_aux = df_aux.resample('D', on='Date').sum()\n",
        "\n",
        "size_aux = int(len(df_aux) * 0.7)\n",
        "df_val_aux = df_aux.Close\n",
        "df_val_aux = df_val_aux.astype('float32')\n",
        "scaler_aux = MinMaxScaler(feature_range=(0, 1))\n",
        "df_val_aux = np.array([df_val_aux]).reshape(-1, 1)\n",
        "df_val_aux = scaler_aux.fit_transform(df_val_aux)\n",
        "w_len = 1\n",
        "df_train_aux, df_test_aux = df_val_aux[0:size_aux, :], df_val_aux[(size_aux-w_len):len(df_val_aux), :]\n",
        "\n",
        "trainX_aux, trainY_aux = create_dataset(df_train_aux, look_back=w_len)\n",
        "testX_aux, testY_aux = create_dataset(df_test_aux, look_back=w_len)\n",
        "\n",
        "trainX_aux = np.reshape(trainX_aux, (trainX_aux.shape[0], 1, trainX_aux.shape[1]))\n",
        "testX_aux = np.reshape(testX_aux, (testX_aux.shape[0], 1, testX_aux.shape[1]))"
      ],
      "execution_count": 12,
      "outputs": []
    },
    {
      "cell_type": "code",
      "metadata": {
        "colab": {
          "base_uri": "https://localhost:8080/"
        },
        "id": "qMsH_iSc6FBb",
        "outputId": "dbfe5e9c-bd0c-4920-d1e5-c195bff83275"
      },
      "source": [
        "BATCH_SIZE = 72\n",
        "\n",
        "model_aux = Sequential()\n",
        "model_aux.add(LSTM(500, input_shape=(1, w_len), return_sequences=True))\n",
        "model_aux.add(LSTM(500))\n",
        "model_aux.add(Dense(1))\n",
        "model_aux.compile(loss='mae', optimizer='adam')\n",
        "model_aux.fit(trainX_aux, trainY_aux, epochs = 50, batch_size=BATCH_SIZE, verbose=2, validation_split=0.3)"
      ],
      "execution_count": 13,
      "outputs": [
        {
          "output_type": "stream",
          "text": [
            "Epoch 1/50\n",
            "9/9 - 4s - loss: 0.4953 - val_loss: 0.4318\n",
            "Epoch 2/50\n",
            "9/9 - 0s - loss: 0.3083 - val_loss: 0.3086\n",
            "Epoch 3/50\n",
            "9/9 - 0s - loss: 0.2542 - val_loss: 0.2727\n",
            "Epoch 4/50\n",
            "9/9 - 0s - loss: 0.2371 - val_loss: 0.2469\n",
            "Epoch 5/50\n",
            "9/9 - 0s - loss: 0.2256 - val_loss: 0.2439\n",
            "Epoch 6/50\n",
            "9/9 - 0s - loss: 0.2248 - val_loss: 0.2413\n",
            "Epoch 7/50\n",
            "9/9 - 0s - loss: 0.2259 - val_loss: 0.2373\n",
            "Epoch 8/50\n",
            "9/9 - 0s - loss: 0.2346 - val_loss: 0.2401\n",
            "Epoch 9/50\n",
            "9/9 - 0s - loss: 0.2296 - val_loss: 0.2409\n",
            "Epoch 10/50\n",
            "9/9 - 0s - loss: 0.2276 - val_loss: 0.2395\n",
            "Epoch 11/50\n",
            "9/9 - 0s - loss: 0.2287 - val_loss: 0.2492\n",
            "Epoch 12/50\n",
            "9/9 - 0s - loss: 0.2251 - val_loss: 0.2437\n",
            "Epoch 13/50\n",
            "9/9 - 0s - loss: 0.2242 - val_loss: 0.2466\n",
            "Epoch 14/50\n",
            "9/9 - 0s - loss: 0.2245 - val_loss: 0.2477\n",
            "Epoch 15/50\n",
            "9/9 - 0s - loss: 0.2249 - val_loss: 0.2474\n",
            "Epoch 16/50\n",
            "9/9 - 0s - loss: 0.2256 - val_loss: 0.2421\n",
            "Epoch 17/50\n",
            "9/9 - 0s - loss: 0.2235 - val_loss: 0.2446\n",
            "Epoch 18/50\n",
            "9/9 - 0s - loss: 0.2235 - val_loss: 0.2349\n",
            "Epoch 19/50\n",
            "9/9 - 0s - loss: 0.2237 - val_loss: 0.2344\n",
            "Epoch 20/50\n",
            "9/9 - 0s - loss: 0.2248 - val_loss: 0.2391\n",
            "Epoch 21/50\n",
            "9/9 - 0s - loss: 0.2239 - val_loss: 0.2405\n",
            "Epoch 22/50\n",
            "9/9 - 0s - loss: 0.2229 - val_loss: 0.2405\n",
            "Epoch 23/50\n",
            "9/9 - 0s - loss: 0.2225 - val_loss: 0.2442\n",
            "Epoch 24/50\n",
            "9/9 - 0s - loss: 0.2249 - val_loss: 0.2412\n",
            "Epoch 25/50\n",
            "9/9 - 0s - loss: 0.2245 - val_loss: 0.2377\n",
            "Epoch 26/50\n",
            "9/9 - 0s - loss: 0.2291 - val_loss: 0.2420\n",
            "Epoch 27/50\n",
            "9/9 - 0s - loss: 0.2278 - val_loss: 0.2339\n",
            "Epoch 28/50\n",
            "9/9 - 0s - loss: 0.2233 - val_loss: 0.2399\n",
            "Epoch 29/50\n",
            "9/9 - 0s - loss: 0.2219 - val_loss: 0.2378\n",
            "Epoch 30/50\n",
            "9/9 - 0s - loss: 0.2213 - val_loss: 0.2352\n",
            "Epoch 31/50\n",
            "9/9 - 0s - loss: 0.2217 - val_loss: 0.2415\n",
            "Epoch 32/50\n",
            "9/9 - 0s - loss: 0.2226 - val_loss: 0.2345\n",
            "Epoch 33/50\n",
            "9/9 - 0s - loss: 0.2219 - val_loss: 0.2397\n",
            "Epoch 34/50\n",
            "9/9 - 0s - loss: 0.2234 - val_loss: 0.2453\n",
            "Epoch 35/50\n",
            "9/9 - 0s - loss: 0.2245 - val_loss: 0.2414\n",
            "Epoch 36/50\n",
            "9/9 - 0s - loss: 0.2212 - val_loss: 0.2336\n",
            "Epoch 37/50\n",
            "9/9 - 0s - loss: 0.2232 - val_loss: 0.2372\n",
            "Epoch 38/50\n",
            "9/9 - 0s - loss: 0.2212 - val_loss: 0.2342\n",
            "Epoch 39/50\n",
            "9/9 - 0s - loss: 0.2212 - val_loss: 0.2343\n",
            "Epoch 40/50\n",
            "9/9 - 0s - loss: 0.2246 - val_loss: 0.2382\n",
            "Epoch 41/50\n",
            "9/9 - 0s - loss: 0.2218 - val_loss: 0.2344\n",
            "Epoch 42/50\n",
            "9/9 - 0s - loss: 0.2225 - val_loss: 0.2420\n",
            "Epoch 43/50\n",
            "9/9 - 0s - loss: 0.2213 - val_loss: 0.2359\n",
            "Epoch 44/50\n",
            "9/9 - 0s - loss: 0.2206 - val_loss: 0.2355\n",
            "Epoch 45/50\n",
            "9/9 - 0s - loss: 0.2204 - val_loss: 0.2334\n",
            "Epoch 46/50\n",
            "9/9 - 0s - loss: 0.2210 - val_loss: 0.2353\n",
            "Epoch 47/50\n",
            "9/9 - 0s - loss: 0.2213 - val_loss: 0.2333\n",
            "Epoch 48/50\n",
            "9/9 - 0s - loss: 0.2197 - val_loss: 0.2343\n",
            "Epoch 49/50\n",
            "9/9 - 0s - loss: 0.2196 - val_loss: 0.2423\n",
            "Epoch 50/50\n",
            "9/9 - 0s - loss: 0.2266 - val_loss: 0.2495\n"
          ],
          "name": "stdout"
        },
        {
          "output_type": "execute_result",
          "data": {
            "text/plain": [
              "<keras.callbacks.History at 0x7f310cbaadd0>"
            ]
          },
          "metadata": {
            "tags": []
          },
          "execution_count": 13
        }
      ]
    },
    {
      "cell_type": "code",
      "metadata": {
        "colab": {
          "base_uri": "https://localhost:8080/"
        },
        "id": "k5f6mDJT6FER",
        "outputId": "ef8d06fc-8197-486e-a79f-eab98b089870"
      },
      "source": [
        "df = pd.read_csv('/content/drive/My Drive/data-mortgage/data_CB_jan.csv', index_col='Date')\n",
        "df = df[8:]\n",
        "size = int(len(df) * 0.7)\n",
        "df_val = df.values\n",
        "df_val = df_val.astype('float32')\n",
        "scaler = MinMaxScaler(feature_range=(0, 1))\n",
        "df_val = scaler.fit_transform(df_val)\n",
        "w_len = 1\n",
        "df_train, df_test = df_val[0:size, :], df_val[(size-w_len):len(df_val), :]\n",
        "len(df), len(df_train), len(df_test)"
      ],
      "execution_count": 14,
      "outputs": [
        {
          "output_type": "execute_result",
          "data": {
            "text/plain": [
              "(32, 22, 11)"
            ]
          },
          "metadata": {
            "tags": []
          },
          "execution_count": 14
        }
      ]
    },
    {
      "cell_type": "code",
      "metadata": {
        "id": "65w6vjjN9TV5"
      },
      "source": [
        "trainX, trainY = create_dataset(df_train, look_back=w_len)\n",
        "testX, testY = create_dataset(df_test, look_back=w_len)"
      ],
      "execution_count": 15,
      "outputs": []
    },
    {
      "cell_type": "code",
      "metadata": {
        "colab": {
          "base_uri": "https://localhost:8080/"
        },
        "id": "_bhxpp_k9TYm",
        "outputId": "b1084202-2a29-46ea-8886-3a7bbf5fafae"
      },
      "source": [
        "trainX = np.reshape(trainX, (trainX.shape[0], 1, trainX.shape[1]))\n",
        "testX = np.reshape(testX, (testX.shape[0], 1, testX.shape[1]))\n",
        "\n",
        "BATCH_SIZE = 72\n",
        "\n",
        "model = Sequential()\n",
        "model.add(LSTM(500, input_shape=(1, w_len), return_sequences=True))\n",
        "model.add(LSTM(500))\n",
        "model.add(Dense(1))\n",
        "model.compile(loss='mae', optimizer='adam')\n",
        "\n",
        "model.set_weights(weights = model_aux.get_weights()) \n",
        "\n",
        "model.fit(trainX, trainY, epochs = 50, batch_size=BATCH_SIZE, verbose=2, validation_split=0.3)\n",
        "# model.save('transfer_02_06_2021.h5')\n",
        "model = keras.models.load_model('transfer_02_06_2021.h5')"
      ],
      "execution_count": 16,
      "outputs": [
        {
          "output_type": "stream",
          "text": [
            "Epoch 1/50\n",
            "1/1 - 3s - loss: 0.0879 - val_loss: 0.1461\n",
            "Epoch 2/50\n",
            "1/1 - 0s - loss: 0.0732 - val_loss: 0.1547\n",
            "Epoch 3/50\n",
            "1/1 - 0s - loss: 0.0729 - val_loss: 0.1596\n",
            "Epoch 4/50\n",
            "1/1 - 0s - loss: 0.0768 - val_loss: 0.1593\n",
            "Epoch 5/50\n",
            "1/1 - 0s - loss: 0.0775 - val_loss: 0.1562\n",
            "Epoch 6/50\n",
            "1/1 - 0s - loss: 0.0748 - val_loss: 0.1520\n",
            "Epoch 7/50\n",
            "1/1 - 0s - loss: 0.0730 - val_loss: 0.1476\n",
            "Epoch 8/50\n",
            "1/1 - 0s - loss: 0.0714 - val_loss: 0.1429\n",
            "Epoch 9/50\n",
            "1/1 - 0s - loss: 0.0722 - val_loss: 0.1413\n",
            "Epoch 10/50\n",
            "1/1 - 0s - loss: 0.0734 - val_loss: 0.1406\n",
            "Epoch 11/50\n",
            "1/1 - 0s - loss: 0.0741 - val_loss: 0.1401\n",
            "Epoch 12/50\n",
            "1/1 - 0s - loss: 0.0744 - val_loss: 0.1397\n",
            "Epoch 13/50\n",
            "1/1 - 0s - loss: 0.0743 - val_loss: 0.1396\n",
            "Epoch 14/50\n",
            "1/1 - 0s - loss: 0.0739 - val_loss: 0.1396\n",
            "Epoch 15/50\n",
            "1/1 - 0s - loss: 0.0733 - val_loss: 0.1397\n",
            "Epoch 16/50\n",
            "1/1 - 0s - loss: 0.0724 - val_loss: 0.1415\n",
            "Epoch 17/50\n",
            "1/1 - 0s - loss: 0.0716 - val_loss: 0.1434\n",
            "Epoch 18/50\n",
            "1/1 - 0s - loss: 0.0717 - val_loss: 0.1451\n",
            "Epoch 19/50\n",
            "1/1 - 0s - loss: 0.0721 - val_loss: 0.1461\n",
            "Epoch 20/50\n",
            "1/1 - 0s - loss: 0.0725 - val_loss: 0.1462\n",
            "Epoch 21/50\n",
            "1/1 - 0s - loss: 0.0727 - val_loss: 0.1458\n",
            "Epoch 22/50\n",
            "1/1 - 0s - loss: 0.0725 - val_loss: 0.1447\n",
            "Epoch 23/50\n",
            "1/1 - 0s - loss: 0.0721 - val_loss: 0.1431\n",
            "Epoch 24/50\n",
            "1/1 - 0s - loss: 0.0718 - val_loss: 0.1417\n",
            "Epoch 25/50\n",
            "1/1 - 0s - loss: 0.0718 - val_loss: 0.1404\n",
            "Epoch 26/50\n",
            "1/1 - 0s - loss: 0.0717 - val_loss: 0.1392\n",
            "Epoch 27/50\n",
            "1/1 - 0s - loss: 0.0720 - val_loss: 0.1389\n",
            "Epoch 28/50\n",
            "1/1 - 0s - loss: 0.0722 - val_loss: 0.1392\n",
            "Epoch 29/50\n",
            "1/1 - 0s - loss: 0.0721 - val_loss: 0.1402\n",
            "Epoch 30/50\n",
            "1/1 - 0s - loss: 0.0717 - val_loss: 0.1418\n",
            "Epoch 31/50\n",
            "1/1 - 0s - loss: 0.0717 - val_loss: 0.1433\n",
            "Epoch 32/50\n",
            "1/1 - 0s - loss: 0.0717 - val_loss: 0.1446\n",
            "Epoch 33/50\n",
            "1/1 - 0s - loss: 0.0718 - val_loss: 0.1451\n",
            "Epoch 34/50\n",
            "1/1 - 0s - loss: 0.0720 - val_loss: 0.1449\n",
            "Epoch 35/50\n",
            "1/1 - 0s - loss: 0.0719 - val_loss: 0.1440\n",
            "Epoch 36/50\n",
            "1/1 - 0s - loss: 0.0716 - val_loss: 0.1432\n",
            "Epoch 37/50\n",
            "1/1 - 0s - loss: 0.0716 - val_loss: 0.1425\n",
            "Epoch 38/50\n",
            "1/1 - 0s - loss: 0.0715 - val_loss: 0.1419\n",
            "Epoch 39/50\n",
            "1/1 - 0s - loss: 0.0716 - val_loss: 0.1421\n",
            "Epoch 40/50\n",
            "1/1 - 0s - loss: 0.0717 - val_loss: 0.1431\n",
            "Epoch 41/50\n",
            "1/1 - 0s - loss: 0.0714 - val_loss: 0.1447\n",
            "Epoch 42/50\n",
            "1/1 - 0s - loss: 0.0714 - val_loss: 0.1462\n",
            "Epoch 43/50\n",
            "1/1 - 0s - loss: 0.0715 - val_loss: 0.1468\n",
            "Epoch 44/50\n",
            "1/1 - 0s - loss: 0.0717 - val_loss: 0.1465\n",
            "Epoch 45/50\n",
            "1/1 - 0s - loss: 0.0715 - val_loss: 0.1455\n",
            "Epoch 46/50\n",
            "1/1 - 0s - loss: 0.0712 - val_loss: 0.1446\n",
            "Epoch 47/50\n",
            "1/1 - 0s - loss: 0.0714 - val_loss: 0.1446\n",
            "Epoch 48/50\n",
            "1/1 - 0s - loss: 0.0715 - val_loss: 0.1454\n",
            "Epoch 49/50\n",
            "1/1 - 0s - loss: 0.0713 - val_loss: 0.1470\n",
            "Epoch 50/50\n",
            "1/1 - 0s - loss: 0.0712 - val_loss: 0.1475\n"
          ],
          "name": "stdout"
        }
      ]
    },
    {
      "cell_type": "code",
      "metadata": {
        "id": "N_gJuSlm9Tbv"
      },
      "source": [
        "predictions_transfer = list()\n",
        "for t in range(len(testX)):\n",
        "    X = testX[t]\n",
        "    yhat = model.predict(np.reshape(X, (1,1,w_len)))\n",
        "    predictions_transfer.append(yhat[0])\n",
        "    expected = testX[t][0]"
      ],
      "execution_count": 17,
      "outputs": []
    },
    {
      "cell_type": "code",
      "metadata": {
        "id": "LSvy9cCe9TfS"
      },
      "source": [
        "testPredict = scaler.inverse_transform([np.concatenate(predictions_transfer)])\n",
        "testY = np.hstack(testY)\n",
        "testY = scaler.inverse_transform([np.concatenate([np.expand_dims(i,axis=0) for i in testY])])"
      ],
      "execution_count": 18,
      "outputs": []
    },
    {
      "cell_type": "code",
      "metadata": {
        "id": "uSVn0mAT9i5g"
      },
      "source": [
        "predicted_transfer = pd.DataFrame(testPredict[0])\n",
        "mape_transfer = round(mean_absolute_percentage_error(testY, testPredict), 2)"
      ],
      "execution_count": 19,
      "outputs": []
    },
    {
      "cell_type": "code",
      "metadata": {
        "id": "CcU1AX_Q9tIp"
      },
      "source": [
        "predict_s_new_point = [df.Money[len(df_train)-1]]\n",
        "for i in range(len(predictions)):\n",
        "  predict_s_new_point.append(predictions[i])\n",
        "\n",
        "predict_s_new_point = pd.DataFrame({'ARIMA': predict_s_new_point})\n",
        "predict_s_new_point = predict_s_new_point.set_index(df.Money[len(df_train)-1:].index)\n",
        "\n",
        "predictions_new_point = [df.Money[len(df_train)-1]]\n",
        "for i in range(len(predictions_base)):\n",
        "  predictions_new_point.append(predictions_base.values[i])\n",
        "\n",
        "predictions_new_point = pd.DataFrame({'Baseline': predictions_new_point})\n",
        "predictions_new_point = predictions_new_point.set_index(df.Money[len(df_train)-1:].index)\n",
        "\n",
        "predictions_noTrans_new_point = [df.Money[len(df_train)-1]]\n",
        "for i in range(len(predicted_lstm)):\n",
        "  predictions_noTrans_new_point.append(predicted_lstm.values[i])\n",
        "\n",
        "predictions_noTrans_new_point = pd.DataFrame({'LSTM': predictions_noTrans_new_point})\n",
        "predictions_noTrans_new_point = predictions_noTrans_new_point.set_index(df.Money[len(df_train)-1:].index)\n",
        "\n",
        "predictions_withTrans_new_point = [df.Money[len(df_train)-1]]\n",
        "for i in range(len(predicted_transfer)):\n",
        "  predictions_withTrans_new_point.append(predicted_transfer.values[i])\n",
        "\n",
        "predictions_withTrans_new_point = pd.DataFrame({'LSTM': predictions_withTrans_new_point})\n",
        "predictions_withTrans_new_point = predictions_withTrans_new_point.set_index(df.Money[len(df_train)-1:].index)"
      ],
      "execution_count": 20,
      "outputs": []
    },
    {
      "cell_type": "code",
      "metadata": {
        "colab": {
          "base_uri": "https://localhost:8080/",
          "height": 539
        },
        "id": "piQu_EUJ9tLp",
        "outputId": "a9831005-60b8-45c9-d71b-1b7e66e49b39"
      },
      "source": [
        "plt.plot(df.Money[:len(trainn)], color='blue', label='Train')\n",
        "plt.plot(df[len(trainn)-1:], color='green', label='Test')\n",
        "\n",
        "plt.plot(predictions_noTrans_new_point, color='orange', label=f'LSTM MAPE = {mape_lstm} %')\n",
        "plt.plot(predictions_withTrans_new_point, color='black', label=f'Transfer Learning MAPE = {mape_transfer} %')\n",
        "\n",
        "\n",
        "plt.plot(predict_s_new_point, color='brown',  label=f\"ARIMA MAPE = {mape_arima} %\")\n",
        "plt.plot(predictions_new_point, color='violet', label=f'Baseline MAPE = {mape_base} %')\n",
        "\n",
        "plt.yticks(fontsize=14)\n",
        "plt.xticks(df.index[0:-1:6])\n",
        "\n",
        "plt.title('Forecasting the volume of mortgage lending', fontsize=15)\n",
        "plt.xlabel('Date', fontsize=15)\n",
        "plt.ylabel('Million rubles', fontsize=15)\n",
        "plt.legend(fontsize=15)\n",
        "# plt.savefig('arima-base-lstm-transfer-eng.png', dpi=300)"
      ],
      "execution_count": 21,
      "outputs": [
        {
          "output_type": "execute_result",
          "data": {
            "text/plain": [
              "<matplotlib.legend.Legend at 0x7f310a485f50>"
            ]
          },
          "metadata": {
            "tags": []
          },
          "execution_count": 21
        },
        {
          "output_type": "display_data",
          "data": {
            "image/png": "[encoded data removed]",
            "text/plain": [
              "<Figure size 864x576 with 1 Axes>"
            ]
          },
          "metadata": {
            "tags": []
          }
        }
      ]
    }
  ]
}